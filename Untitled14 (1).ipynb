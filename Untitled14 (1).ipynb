{
 "cells": [
  {
   "cell_type": "code",
   "execution_count": 2,
   "id": "65873ad4",
   "metadata": {},
   "outputs": [],
   "source": [
    "import gensim\n",
    "import numpy as np\n",
    "from gensim.models import KeyedVectors"
   ]
  },
  {
   "cell_type": "code",
   "execution_count": 3,
   "id": "73c35592",
   "metadata": {},
   "outputs": [],
   "source": [
    "uk_emb = KeyedVectors.load_word2vec_format(\"C:/Users/User/Desktop/uk2rus/cc.uk.300.vec\")"
   ]
  },
  {
   "cell_type": "code",
   "execution_count": 4,
   "id": "957b7bbc",
   "metadata": {},
   "outputs": [],
   "source": [
    "ru_emb = KeyedVectors.load_word2vec_format(\"C:/Users/User/Desktop/uk2rus/cc.ru.300.vec\")"
   ]
  },
  {
   "cell_type": "code",
   "execution_count": 5,
   "id": "71339975",
   "metadata": {},
   "outputs": [],
   "source": [
    "def load_word_pairs(filename):\n",
    "    uk_ru_pairs = []\n",
    "    uk_vectors = []\n",
    "    ru_vectors = []\n",
    "    with open(filename, \"r\",encoding=\"utf8\") as inpf:\n",
    "        for line in inpf:\n",
    "            uk, ru = line.rstrip().split(\"\\t\")\n",
    "            if uk not in uk_emb or ru not in ru_emb:\n",
    "                continue\n",
    "            uk_ru_pairs.append((uk, ru))\n",
    "            uk_vectors.append(uk_emb[uk])\n",
    "            ru_vectors.append(ru_emb[ru])\n",
    "    return uk_ru_pairs, np.array(uk_vectors), np.array(ru_vectors)"
   ]
  },
  {
   "cell_type": "code",
   "execution_count": null,
   "id": "42b3a17b",
   "metadata": {},
   "outputs": [],
   "source": []
  },
  {
   "cell_type": "code",
   "execution_count": 6,
   "id": "129a7056",
   "metadata": {},
   "outputs": [],
   "source": [
    "uk_ru_test, X_test, Y_test = load_word_pairs(\"ukr_rus.test.txt\")"
   ]
  },
  {
   "cell_type": "code",
   "execution_count": 7,
   "id": "6ebd356d",
   "metadata": {},
   "outputs": [],
   "source": [
    "uk_ru_train, X_train, Y_train = load_word_pairs(\"ukrrus.train.txt\")"
   ]
  },
  {
   "cell_type": "code",
   "execution_count": 8,
   "id": "789c1631",
   "metadata": {},
   "outputs": [],
   "source": [
    "from sklearn.linear_model import LinearRegression\n",
    "\n",
    "model = LinearRegression()\n",
    "_ = model.fit(X_train, Y_train)"
   ]
  },
  {
   "cell_type": "code",
   "execution_count": 9,
   "id": "b0b911f8",
   "metadata": {},
   "outputs": [
    {
     "data": {
      "text/plain": [
       "[('апрель', 0.854159414768219),\n",
       " ('июнь', 0.8411962985992432),\n",
       " ('март', 0.8397400379180908),\n",
       " ('сентябрь', 0.8359216451644897),\n",
       " ('февраль', 0.8328749537467957),\n",
       " ('октябрь', 0.8311805725097656),\n",
       " ('ноябрь', 0.8278146982192993),\n",
       " ('июль', 0.8236350417137146),\n",
       " ('август', 0.8120613098144531),\n",
       " ('декабрь', 0.8038000464439392)]"
      ]
     },
     "execution_count": 9,
     "metadata": {},
     "output_type": "execute_result"
    }
   ],
   "source": [
    "august = model.predict(uk_emb[\"серпень\"].reshape(1, -1))\n",
    "ru_emb.most_similar(august)"
   ]
  },
  {
   "cell_type": "code",
   "execution_count": 10,
   "id": "2a2a877e",
   "metadata": {},
   "outputs": [],
   "source": [
    "def precision(pairs, mapped_vectors, topn=1):\n",
    "    assert len(pairs) == len(mapped_vectors)\n",
    "    num_matches = 0\n",
    "    for i, (_, ru) in enumerate(pairs):\n",
    "        similar = ru_emb.most_similar(mapped_vectors[i], topn=topn)\n",
    "        for n in range(len(similar)):\n",
    "            if ru == similar[n][0]:\n",
    "                num_matches = num_matches + 1\n",
    "    precision_val = num_matches / len(pairs)\n",
    "    return precision_val"
   ]
  },
  {
   "cell_type": "code",
   "execution_count": 11,
   "id": "d38b8fb0",
   "metadata": {},
   "outputs": [],
   "source": [
    "assert precision([(\"серпень\", \"август\")], august, topn=5) == 0.0\n",
    "assert precision([(\"серпень\", \"август\")], august, topn=9) == 1.0\n",
    "assert precision([(\"серпень\", \"август\")], august, topn=10) == 1.0"
   ]
  },
  {
   "cell_type": "code",
   "execution_count": 12,
   "id": "1b113ef1",
   "metadata": {},
   "outputs": [],
   "source": [
    "assert precision(uk_ru_test, X_test) == 0.0\n",
    "assert precision(uk_ru_test, Y_test) == 1.0"
   ]
  },
  {
   "cell_type": "code",
   "execution_count": 13,
   "id": "e584d862",
   "metadata": {},
   "outputs": [
    {
     "data": {
      "text/plain": [
       "0.6356589147286822"
      ]
     },
     "execution_count": 13,
     "metadata": {},
     "output_type": "execute_result"
    }
   ],
   "source": [
    "precision_top1 = precision(uk_ru_test, model.predict(X_test), 1)\n",
    "precision_top5 = precision(uk_ru_test, model.predict(X_test), 5)\n",
    "\n",
    "precision_top1"
   ]
  },
  {
   "cell_type": "code",
   "execution_count": 14,
   "id": "e8ece9f4",
   "metadata": {},
   "outputs": [],
   "source": [
    "def learn_transform(X_train, Y_train):\n",
    "    u, s, vt = np.linalg.svd(np.matmul(X_train.transpose(), Y_train))\n",
    "    W = np.matmul(u, vt)\n",
    "    return W"
   ]
  },
  {
   "cell_type": "code",
   "execution_count": 15,
   "id": "9f3addb7",
   "metadata": {},
   "outputs": [],
   "source": [
    "W = learn_transform(X_train, Y_train)"
   ]
  },
  {
   "cell_type": "code",
   "execution_count": 16,
   "id": "faddb672",
   "metadata": {},
   "outputs": [
    {
     "data": {
      "text/plain": [
       "array([[-0.04726764, -0.00039346,  0.01660891, ...,  0.01075402,\n",
       "         0.05630323, -0.02920388],\n",
       "       [ 0.01875379,  0.07762805, -0.02526646, ..., -0.04825189,\n",
       "         0.05523313,  0.00287794],\n",
       "       [-0.00289267,  0.00492156,  0.03302269, ..., -0.09383073,\n",
       "         0.0010823 , -0.02547004],\n",
       "       ...,\n",
       "       [ 0.06924202,  0.02402507,  0.00025672, ..., -0.10239008,\n",
       "        -0.0104623 , -0.01620188],\n",
       "       [ 0.07994906,  0.039838  ,  0.06650155, ...,  0.05040342,\n",
       "         0.10387777, -0.06498513],\n",
       "       [ 0.00486841,  0.04323363, -0.03774844, ..., -0.002401  ,\n",
       "        -0.07146894, -0.00777142]], dtype=float32)"
      ]
     },
     "execution_count": 16,
     "metadata": {},
     "output_type": "execute_result"
    }
   ],
   "source": [
    "W"
   ]
  },
  {
   "cell_type": "code",
   "execution_count": 17,
   "id": "88930c15",
   "metadata": {},
   "outputs": [
    {
     "data": {
      "text/plain": [
       "[('апрель', 0.8237906694412231),\n",
       " ('сентябрь', 0.8049710988998413),\n",
       " ('март', 0.802565336227417),\n",
       " ('июнь', 0.8021842837333679),\n",
       " ('октябрь', 0.8001735806465149),\n",
       " ('ноябрь', 0.793448269367218),\n",
       " ('февраль', 0.7914119958877563),\n",
       " ('июль', 0.790810763835907),\n",
       " ('август', 0.7891013622283936),\n",
       " ('декабрь', 0.7686371803283691)]"
      ]
     },
     "execution_count": 17,
     "metadata": {},
     "output_type": "execute_result"
    }
   ],
   "source": [
    "ru_emb.most_similar([np.matmul(uk_emb[\"серпень\"], W)])"
   ]
  },
  {
   "cell_type": "code",
   "execution_count": 18,
   "id": "f2435091",
   "metadata": {},
   "outputs": [
    {
     "data": {
      "text/plain": [
       "0.8113695090439277"
      ]
     },
     "execution_count": 18,
     "metadata": {},
     "output_type": "execute_result"
    }
   ],
   "source": [
    "precision_top5"
   ]
  },
  {
   "cell_type": "code",
   "execution_count": 19,
   "id": "5ece984b",
   "metadata": {},
   "outputs": [],
   "source": [
    "assert precision(uk_ru_test, np.matmul(X_test, W)) >= 0.653\n",
    "assert precision(uk_ru_test, np.matmul(X_test, W), 5) >= 0.824"
   ]
  },
  {
   "cell_type": "code",
   "execution_count": 20,
   "id": "125c4112",
   "metadata": {},
   "outputs": [],
   "source": [
    "with open(\"FairyTale.txt\", \"r\", encoding=\"utf8\") as inpf:\n",
    "    uk_sentences = [line.rstrip().lower() for line in inpf]"
   ]
  },
  {
   "cell_type": "code",
   "execution_count": 55,
   "id": "3114f4e4",
   "metadata": {},
   "outputs": [],
   "source": [
    "def translate(sentence):\n",
    "    ru_sentence = \"\"\n",
    "    uk_embedings = []\n",
    "    words = sentence.split(\" \")\n",
    "    for word in words:\n",
    "        if word not in uk_emb:\n",
    "            continue\n",
    "        uk_embedings.append(uk_emb[word])\n",
    "    ru_embedings = []\n",
    "    for emb in uk_embedings:\n",
    "        ru_embedings.append(ru_emb.most_similar([np.matmul(emb, W)]))\n",
    "    for word_n_vec in ru_embedings:\n",
    "        ru_sentence = ru_sentence + \" \" + word_n_vec[0][0]\n",
    "    return ru_sentence"
   ]
  },
  {
   "cell_type": "code",
   "execution_count": 51,
   "id": "9fb171b5",
   "metadata": {},
   "outputs": [
    {
     "name": "stdout",
     "output_type": "stream",
     "text": [
      "['.']\n"
     ]
    },
    {
     "data": {
      "text/plain": [
       "' .'"
      ]
     },
     "execution_count": 51,
     "metadata": {},
     "output_type": "execute_result"
    }
   ],
   "source": [
    "translate(\".\")"
   ]
  },
  {
   "cell_type": "code",
   "execution_count": 56,
   "id": "5037d8d5",
   "metadata": {},
   "outputs": [
    {
     "name": "stdout",
     "output_type": "stream",
     "text": [
      " лисичка – сестричка и волк\n",
      "\n",
      " как была себе лисичка и сделала и и а оно приходят из лисичка замерзла и и побежала во село огня чтобы прибегает к одной бабы и и\n",
      "\n",
      " — здоровые со мне мной тебе\n",
      "\n",
      " — — — – садись пока мной пирожки со\n",
      "\n",
      " а бабка маковые пирожки из бабка выбирает пирожки и по столе чтобы а лисичка и за и со со а туда и и\n",
      "\n",
      " из а парни товар гонят к воды\n",
      "\n",
      " — здоровые\n",
      "\n",
      " — –\n",
      "\n",
      " — мне бычка – по маковый\n",
      "\n",
      " — —\n",
      "\n",
      " — — — теперь не а как мной со то\n",
      "\n",
      " из лисичка за бычка — и во сельско а парни к пирожка — а там\n",
      "\n",
      " из прибежала лисичка к своего сделала бычка — аж бежит\n",
      "\n",
      " — –\n",
      "\n",
      " — –\n",
      "\n",
      " — куда ты взяла бычка – и\n",
      "\n",
      " — сделала\n",
      "\n",
      " — — — –\n",
      "\n",
      " — куда мной тебя ты мне и санки\n",
      "\n",
      " — — — мной только одну ножку\n",
      "\n",
      " —\n",
      "\n",
      " из волк и\n",
      "\n",
      " — – и вторую\n",
      "\n",
      " — – ты мне и санки\n",
      "\n",
      " — — — не\n",
      "\n",
      " —\n",
      "\n",
      " волк и когда оно что-то —\n",
      "\n",
      " — – ты мне уже и санки\n",
      "\n",
      " — ни – то мной\n",
      "\n",
      " —\n",
      "\n",
      " из\n",
      "\n",
      " — – и третью — говорит\n",
      "\n",
      " — куда ты ты мне санки Чем мной тогда\n",
      "\n",
      " — — — не\n",
      "\n",
      " —\n",
      "\n",
      " волк положил и третью когда оно —\n",
      "\n",
      " — ой — говорит — иди себе — ты мне совсем санки\n",
      "\n",
      " — то мной\n",
      "\n",
      " — дай то и\n",
      "\n",
      " — — —\n",
      "\n",
      " едут себе и и и\n",
      "\n",
      " — сяду мной\n",
      "\n",
      " — куда ты – и санки\n",
      "\n",
      " — мной —\n",
      "\n",
      " —\n",
      "\n",
      " из только что а санки так и лисичка тогда давай его ругала – ругала и и\n",
      "\n",
      " — пойди – такой и по санки и\n",
      "\n",
      " — как то — говорит — когда мной не которого\n",
      "\n",
      " — — – такой как санки так и а то и\n",
      "\n",
      "\n",
      "\n",
      " — как — — во то « и и и и »\n",
      "\n",
      " волк и\n",
      "\n",
      " из приходит во лес и и\n",
      "\n",
      " — кривое и\n",
      "\n",
      " дерево и такое что и по палку не выберешь — не то по приносит к лисички что она как давай его снова\n",
      "\n",
      " — — — – такой не так как мной тебе\n",
      "\n",
      " — – — — стоял и всё « кривое и »\n",
      "\n",
      " — бесов и того сиди же ты — мной сама пойду\n",
      "\n",
      " и и\n",
      "\n",
      " из сидит волк сам себе — так кушать он думал – « — — бычка и и » из взял дыру во со середины всё а туда воробьёв напустил и соломой а сам — приходит сделала\n",
      "\n",
      " — бычок –\n",
      "\n",
      " аж бычок не она его как а соломы и а воробьи —\n",
      "\n",
      " — – такой постой — — мной тебе\n",
      "\n",
      " и и\n",
      "\n",
      " легла по пути и и идут казаки со она языки казаки смотрят — аж\n",
      "\n",
      " — — — и продадим — будет за что хоть\n",
      "\n",
      " сбросили ей по последний визы и и идут и и а лисичка – сестричка что они не и всё по рыбки по всё из как навязала уже тогда втихаря и сама казаки же поехали себе а она присела и и\n",
      "\n",
      " когда оно бежит\n",
      "\n",
      " — здоровая –\n",
      "\n",
      " — –\n",
      "\n",
      " — что ты –\n",
      "\n",
      " — — —\n",
      "\n",
      " — дай то и\n",
      "\n",
      " — пойди себе\n",
      "\n",
      " — так как то мной когда мной не\n",
      "\n",
      " — как а мной не дам и\n",
      "\n",
      " — так хоть научить как\n",
      "\n",
      " а лисичка и « постой ты моего бычка – — мной теперь тебе »\n",
      "\n",
      " — а — — пойди к во прорубь хвост и потихоньку воды ним и « имела и имела и » то она и\n",
      "\n",
      " — спасибо за — говорит\n",
      "\n",
      " из прибегает к во прорубь\n",
      "\n",
      " — — — имела и\n",
      "\n",
      " а лисичка со\n",
      "\n",
      " — волчий\n",
      "\n",
      " а мороз дворе что аж хвостиком всё водит\n",
      "\n",
      " — имела и\n",
      "\n",
      " а\n",
      "\n",
      " — волчий\n",
      "\n",
      " пока ловил пока хвост так и пугаясь во тогда лисичка во\n",
      "\n",
      " — волка\n",
      "\n",
      " люди как — со со со убили того волка и пропал а лисичка и сих живет во своей\n",
      "\n"
     ]
    }
   ],
   "source": [
    "for sentence in uk_sentences:\n",
    "    print(\"{}\\n\".format(translate(sentence)))"
   ]
  },
  {
   "cell_type": "code",
   "execution_count": null,
   "id": "2a9428f7",
   "metadata": {},
   "outputs": [],
   "source": []
  },
  {
   "cell_type": "code",
   "execution_count": null,
   "id": "90b432cb",
   "metadata": {},
   "outputs": [],
   "source": []
  }
 ],
 "metadata": {
  "kernelspec": {
   "display_name": "Python 3 (ipykernel)",
   "language": "python",
   "name": "python3"
  },
  "language_info": {
   "codemirror_mode": {
    "name": "ipython",
    "version": 3
   },
   "file_extension": ".py",
   "mimetype": "text/x-python",
   "name": "python",
   "nbconvert_exporter": "python",
   "pygments_lexer": "ipython3",
   "version": "3.9.13"
  }
 },
 "nbformat": 4,
 "nbformat_minor": 5
}
